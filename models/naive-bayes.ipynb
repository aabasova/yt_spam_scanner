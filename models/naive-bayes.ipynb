{
 "cells": [
  {
   "cell_type": "markdown",
   "id": "0aa65c3c-59d3-4cda-a0fd-7d2fc421b1d2",
   "metadata": {},
   "source": [
    "# Naive Bayes"
   ]
  },
  {
   "cell_type": "markdown",
   "id": "ceaa11e2",
   "metadata": {},
   "source": [
    "### Import libraries"
   ]
  },
  {
   "cell_type": "code",
   "execution_count": 1,
   "id": "9750c5c6",
   "metadata": {},
   "outputs": [],
   "source": [
    "import pandas as pd # one-hot encoding\n",
    "import numpy as np\n",
    "import glob\n",
    "import os\n",
    "\n",
    "import matplotlib.pyplot as plt # graphs\n",
    "import matplotlib.colors as colors\n",
    "\n",
    "import joblib\n",
    "import datetime\n",
    "import time\n",
    "\n",
    "from collections import defaultdict\n",
    "\n",
    "import sklearn\n",
    "from sklearn.utils import resample # downsample dataset\n",
    "from sklearn.model_selection import train_test_split # split to training and testing datasets\n",
    "from sklearn.model_selection import GridSearchCV, cross_validate # cross validation\n",
    "#from sklearn.preprocessing import scale # scale and center data\n",
    "from sklearn.naive_bayes import MultinomialNB\n",
    "from sklearn.metrics import confusion_matrix, classification_report, ConfusionMatrixDisplay, accuracy_score\n",
    "from sklearn.decomposition import PCA\n",
    "from sklearn.preprocessing import LabelEncoder\n",
    "from sklearn.feature_extraction.text import CountVectorizer, TfidfVectorizer\n",
    "from sklearn.pipeline import make_pipeline\n",
    "\n",
    "import spacy"
   ]
  },
  {
   "cell_type": "markdown",
   "id": "9db08491",
   "metadata": {},
   "source": [
    "### Import data"
   ]
  },
  {
   "cell_type": "code",
   "execution_count": 2,
   "id": "ccee94a9",
   "metadata": {},
   "outputs": [
    {
     "data": {
      "text/html": [
       "<div>\n",
       "<style scoped>\n",
       "    .dataframe tbody tr th:only-of-type {\n",
       "        vertical-align: middle;\n",
       "    }\n",
       "\n",
       "    .dataframe tbody tr th {\n",
       "        vertical-align: top;\n",
       "    }\n",
       "\n",
       "    .dataframe thead th {\n",
       "        text-align: right;\n",
       "    }\n",
       "</style>\n",
       "<table border=\"1\" class=\"dataframe\">\n",
       "  <thead>\n",
       "    <tr style=\"text-align: right;\">\n",
       "      <th></th>\n",
       "      <th>CONTENT</th>\n",
       "      <th>CLASS</th>\n",
       "    </tr>\n",
       "  </thead>\n",
       "  <tbody>\n",
       "    <tr>\n",
       "      <th>0</th>\n",
       "      <td>''Oh my god, do the people at the hospital kno...</td>\n",
       "      <td>0</td>\n",
       "    </tr>\n",
       "    <tr>\n",
       "      <th>1</th>\n",
       "      <td>1:19 Ross's face... I just can't 🤣🤣🤣🤣</td>\n",
       "      <td>0</td>\n",
       "    </tr>\n",
       "    <tr>\n",
       "      <th>2</th>\n",
       "      <td>love this LMAO</td>\n",
       "      <td>0</td>\n",
       "    </tr>\n",
       "    <tr>\n",
       "      <th>3</th>\n",
       "      <td>All the water they spill at him and there are ...</td>\n",
       "      <td>0</td>\n",
       "    </tr>\n",
       "    <tr>\n",
       "      <th>4</th>\n",
       "      <td>@WeNeedMoreGodsInT-Shirts Do you know the word...</td>\n",
       "      <td>0</td>\n",
       "    </tr>\n",
       "  </tbody>\n",
       "</table>\n",
       "</div>"
      ],
      "text/plain": [
       "                                             CONTENT  CLASS\n",
       "0  ''Oh my god, do the people at the hospital kno...      0\n",
       "1              1:19 Ross's face... I just can't 🤣🤣🤣🤣      0\n",
       "2                                     love this LMAO      0\n",
       "3  All the water they spill at him and there are ...      0\n",
       "4  @WeNeedMoreGodsInT-Shirts Do you know the word...      0"
      ]
     },
     "execution_count": 2,
     "metadata": {},
     "output_type": "execute_result"
    }
   ],
   "source": [
    "corpus = pd.read_csv(\"../data/dataset.csv\")\n",
    "corpus.head()"
   ]
  },
  {
   "cell_type": "markdown",
   "id": "9776d133",
   "metadata": {},
   "source": [
    "### Statistics about the data"
   ]
  },
  {
   "cell_type": "code",
   "execution_count": 3,
   "id": "6db72209",
   "metadata": {},
   "outputs": [
    {
     "name": "stdout",
     "output_type": "stream",
     "text": [
      "Data types:\n",
      "CONTENT    object\n",
      "CLASS       int64\n",
      "dtype: object\n",
      "\n",
      "There are 2 comment types: [0 1]\n",
      "The dataset contains of 30575 examples: 12910 spam and 17665 legitimate comments\n"
     ]
    },
    {
     "data": {
      "image/png": "[encoded data removed]",
      "text/plain": [
       "<Figure size 640x480 with 1 Axes>"
      ]
     },
     "metadata": {},
     "output_type": "display_data"
    }
   ],
   "source": [
    "print(f\"Data types:\\n{corpus.dtypes}\\n\")\n",
    "print(f\"There are {len(corpus['CLASS'].unique())} comment types: {corpus['CLASS'].unique()}\")\n",
    "print(f\"The dataset contains of {len(corpus)} examples: {len(corpus.loc[corpus['CLASS'] == 1])} spam and {len(corpus.loc[corpus['CLASS'] == 0])} legitimate comments\")\n",
    "\n",
    "corpus.groupby(\"CLASS\").CONTENT.count().plot.bar(ylim=0)\n",
    "plt.xticks([0,1],['legitimate', 'spam'], rotation=0)\n",
    "plt.xlabel(\"comment type\")\n",
    "plt.ylabel(\"numberof comments\")\n",
    "plt.title(\"Dataset distribution\", pad=20)\n",
    "plt.show()"
   ]
  },
  {
   "cell_type": "markdown",
   "id": "885c44c9",
   "metadata": {},
   "source": []
  },
  {
   "cell_type": "markdown",
   "id": "e249a60d",
   "metadata": {},
   "source": [
    "### Peprocessing"
   ]
  },
  {
   "cell_type": "code",
   "execution_count": 4,
   "id": "92ef9b11",
   "metadata": {},
   "outputs": [],
   "source": [
    "def preprocess_data(corpus):\n",
    "    nlp = spacy.load(\"en_core_web_sm\")\n",
    "\n",
    "    # remove blank rows if any\n",
    "    corpus.dropna(inplace=True)\n",
    "    \n",
    "    # add column for representation\n",
    "    corpus['REPR'] = corpus.loc[:, 'CONTENT']\n",
    "        \n",
    "    # lower case\n",
    "    corpus['REPR'] = corpus['REPR'].str.lower()\n",
    "    \n",
    "    for comment in corpus[\"REPR\"]:    \n",
    "        doc = nlp(comment)\n",
    "        # lemmatize, remove stopwords\n",
    "        comment = \" \".join([token.lemma_ for token in doc if not token.is_stop])"
   ]
  },
  {
   "cell_type": "code",
   "execution_count": 5,
   "id": "539e24a2",
   "metadata": {},
   "outputs": [
    {
     "name": "stderr",
     "output_type": "stream",
     "text": [
      "/home/vivi/venv-idsta/lib/python3.10/site-packages/sklearn/feature_extraction/text.py:528: UserWarning: The parameter 'token_pattern' will not be used since 'tokenizer' is not None'\n",
      "  warnings.warn(\n"
     ]
    }
   ],
   "source": [
    "preprocess_data(corpus)\n",
    "\n",
    "# binary feature representation\n",
    "vectorizer = CountVectorizer(binary=True, max_df=0.95) #max_features=10000, tokenizer=lambda doc: doc)\n",
    "BOW = vectorizer.fit_transform(corpus[\"REPR\"])\n",
    "\n",
    "# count based feature representation\n",
    "vectorizer_2 = CountVectorizer(binary=False, max_df=0.95) #max_features=10000)\n",
    "BOW_2 = vectorizer_2.fit_transform(corpus[\"REPR\"])\n",
    "\n",
    "# bag of 2-Grams\n",
    "bigram_vectorizer = CountVectorizer(tokenizer=lambda doc: doc, ngram_range=(2,2))\n",
    "BOW_3 = bigram_vectorizer.fit_transform(corpus[\"REPR\"])\n",
    "\n",
    "# TF-IDF\n",
    "tfidf_vectorizer = TfidfVectorizer(max_df=0.95, use_idf=True, stop_words='english') #min_df= 3, stop_words=\"english\", sublinear_tf=True, norm='l2', ngram_range=(1, 2))\n",
    "tfidf_voc = tfidf_vectorizer.fit_transform(corpus[\"REPR\"])"
   ]
  },
  {
   "cell_type": "markdown",
   "id": "39aed4d5",
   "metadata": {},
   "source": [
    "### Naive Bayes model"
   ]
  },
  {
   "cell_type": "markdown",
   "id": "4023bbc6",
   "metadata": {},
   "source": [
    "### Train, store and evaluate classifier"
   ]
  },
  {
   "cell_type": "code",
   "execution_count": 6,
   "id": "b837c037",
   "metadata": {},
   "outputs": [],
   "source": [
    "def split_data(features, labels):\n",
    "    return train_test_split(features,labels, test_size=0.3,random_state=42,shuffle=True)\n",
    "\n",
    "\n",
    "def save_model(model):\n",
    "    now = datetime.datetime.now()\n",
    "    model_output_path = \"saved_models/\"+model.__class__.__name__.lower()+\"_\"+str(now.minute)+\"-\"+str(now.second)+\".joblib\"\n",
    "    joblib.dump(model, open(model_output_path, 'wb+'))\n",
    "\n",
    "    \n",
    "def report(model, best_model, X_test, y_test, labels):\n",
    "    print(f\"Best parameters set {model.best_params_} with accuracy {model.best_score_}\")\n",
    "    y_predict = best_model.predict(X_test)\n",
    "    \n",
    "    labels = sorted(list(set(labels)))\n",
    "    print(\"\\nConfusion matrix:\")\n",
    "    cm = confusion_matrix(y_test, y_predict, labels=labels) # lables=clf.classes_\n",
    "    disp = ConfusionMatrixDisplay(confusion_matrix=cm, display_labels=labels)\n",
    "    disp.plot()\n",
    "    plt.show()\n",
    "    \n",
    "    print(\"\\nClassification report:\")\n",
    "    print(classification_report(y_test, y_predict))\n",
    "    \n",
    "    print(\"\\nAccuracy: {}%\".format(accuracy_score(y_test, y_predict)*100))\n",
    "    print(\"Precision: {}%\".format(sklearn.metrics.precision_score(y_test, y_predict)*100))\n",
    "    print(\"Recall: {}%\".format(sklearn.metrics.recall_score(y_test, y_predict)*100))\n",
    "\n",
    "    \n",
    "def train_nb_classifier(features, labels):\n",
    "    # split data\n",
    "    X_train, X_test, y_train, y_test = split_data(features, labels)\n",
    "\n",
    "    param = {'alpha': [0.01, 0.1, 0.5, 1.0, 10.0, ],\n",
    "             'fit_prior': [True, False]\n",
    "            }\n",
    "\n",
    "    clf = GridSearchCV(MultinomialNB(), param, cv=5, n_jobs=2, verbose=0)\n",
    "    \n",
    "    clf.fit(X_train, y_train)\n",
    "    nb_clf = clf.best_estimator_\n",
    "    \n",
    "    # save model to disk\n",
    "    save_model(nb_clf)\n",
    "    \n",
    "    # show test report\n",
    "    report(clf, nb_clf, X_test, y_test, labels)\n"
   ]
  },
  {
   "cell_type": "code",
   "execution_count": 7,
   "id": "4f60a043",
   "metadata": {},
   "outputs": [
    {
     "name": "stdout",
     "output_type": "stream",
     "text": [
      "Best parameters set {'alpha': 0.01, 'fit_prior': True} with accuracy 0.8861269857902883\n",
      "\n",
      "Confusion matrix:\n"
     ]
    },
    {
     "data": {
      "image/png": "[encoded data removed]",
      "text/plain": [
       "<Figure size 640x480 with 2 Axes>"
      ]
     },
     "metadata": {},
     "output_type": "display_data"
    },
    {
     "name": "stdout",
     "output_type": "stream",
     "text": [
      "\n",
      "Classification report:\n",
      "              precision    recall  f1-score   support\n",
      "\n",
      "           0       0.87      0.96      0.91      5314\n",
      "           1       0.94      0.79      0.86      3858\n",
      "\n",
      "    accuracy                           0.89      9172\n",
      "   macro avg       0.90      0.88      0.89      9172\n",
      "weighted avg       0.90      0.89      0.89      9172\n",
      "\n",
      "\n",
      "Accuracy: 89.16266899258613%\n",
      "Precision: 93.81884944920441%\n",
      "Recall: 79.47122861586314%\n"
     ]
    }
   ],
   "source": [
    "train_nb_classifier(BOW, np.asarray(corpus[\"CLASS\"]))\n",
    "time.sleep(3)"
   ]
  },
  {
   "cell_type": "code",
   "execution_count": 8,
   "id": "cf6be6d5",
   "metadata": {},
   "outputs": [
    {
     "name": "stdout",
     "output_type": "stream",
     "text": [
      "Best parameters set {'alpha': 0.01, 'fit_prior': True} with accuracy 0.883837408064759\n",
      "\n",
      "Confusion matrix:\n"
     ]
    },
    {
     "data": {
      "image/png": "[encoded data removed]",
      "text/plain": [
       "<Figure size 640x480 with 2 Axes>"
      ]
     },
     "metadata": {},
     "output_type": "display_data"
    },
    {
     "name": "stdout",
     "output_type": "stream",
     "text": [
      "\n",
      "Classification report:\n",
      "              precision    recall  f1-score   support\n",
      "\n",
      "           0       0.87      0.96      0.91      5314\n",
      "           1       0.94      0.79      0.86      3858\n",
      "\n",
      "    accuracy                           0.89      9172\n",
      "   macro avg       0.90      0.88      0.89      9172\n",
      "weighted avg       0.90      0.89      0.89      9172\n",
      "\n",
      "\n",
      "Accuracy: 89.09725250763192%\n",
      "Precision: 93.75382731169627%\n",
      "Recall: 79.3675479523069%\n"
     ]
    }
   ],
   "source": [
    "train_nb_classifier(BOW_2, np.asarray(corpus[\"CLASS\"]))\n",
    "time.sleep(3)"
   ]
  },
  {
   "cell_type": "code",
   "execution_count": 9,
   "id": "e29ecfaa",
   "metadata": {},
   "outputs": [
    {
     "name": "stdout",
     "output_type": "stream",
     "text": [
      "Best parameters set {'alpha': 0.01, 'fit_prior': True} with accuracy 0.8545391285554297\n",
      "\n",
      "Confusion matrix:\n"
     ]
    },
    {
     "data": {
      "image/png": "[encoded data removed]",
      "text/plain": [
       "<Figure size 640x480 with 2 Axes>"
      ]
     },
     "metadata": {},
     "output_type": "display_data"
    },
    {
     "name": "stdout",
     "output_type": "stream",
     "text": [
      "\n",
      "Classification report:\n",
      "              precision    recall  f1-score   support\n",
      "\n",
      "           0       0.81      0.99      0.89      5314\n",
      "           1       0.97      0.68      0.80      3858\n",
      "\n",
      "    accuracy                           0.86      9172\n",
      "   macro avg       0.89      0.83      0.84      9172\n",
      "weighted avg       0.88      0.86      0.85      9172\n",
      "\n",
      "\n",
      "Accuracy: 85.72830353249019%\n",
      "Precision: 97.46741154562383%\n",
      "Recall: 67.83307413167444%\n"
     ]
    }
   ],
   "source": [
    "train_nb_classifier(BOW_3, np.asarray(corpus[\"CLASS\"]))\n",
    "time.sleep(3)"
   ]
  },
  {
   "cell_type": "code",
   "execution_count": 10,
   "id": "bbaa5497",
   "metadata": {},
   "outputs": [
    {
     "name": "stdout",
     "output_type": "stream",
     "text": [
      "Best parameters set {'alpha': 0.01, 'fit_prior': True} with accuracy 0.8928090213877009\n",
      "\n",
      "Confusion matrix:\n"
     ]
    },
    {
     "data": {
      "image/png": "[encoded data removed]",
      "text/plain": [
       "<Figure size 640x480 with 2 Axes>"
      ]
     },
     "metadata": {},
     "output_type": "display_data"
    },
    {
     "name": "stdout",
     "output_type": "stream",
     "text": [
      "\n",
      "Classification report:\n",
      "              precision    recall  f1-score   support\n",
      "\n",
      "           0       0.88      0.95      0.92      5314\n",
      "           1       0.93      0.83      0.87      3858\n",
      "\n",
      "    accuracy                           0.90      9172\n",
      "   macro avg       0.90      0.89      0.89      9172\n",
      "weighted avg       0.90      0.90      0.90      9172\n",
      "\n",
      "\n",
      "Accuracy: 89.90405582206716%\n",
      "Precision: 92.54207777132908%\n",
      "Recall: 82.65940902021774%\n"
     ]
    }
   ],
   "source": [
    "train_nb_classifier(tfidf_voc, np.asarray(corpus[\"CLASS\"]))"
   ]
  },
  {
   "cell_type": "markdown",
   "id": "91ebdfd6",
   "metadata": {},
   "source": [
    "### Load saved model"
   ]
  },
  {
   "cell_type": "code",
   "execution_count": 13,
   "id": "97dcee8c",
   "metadata": {},
   "outputs": [],
   "source": [
    "model_output_path = 'saved_models/multinomialnb_33-38.joblib'\n",
    "\n",
    "def load_saved_model(model_path):\n",
    "    return joblib.load(model_path)"
   ]
  },
  {
   "cell_type": "code",
   "execution_count": 14,
   "id": "647519e1",
   "metadata": {},
   "outputs": [],
   "source": [
    "clf = load_saved_model(model_output_path)\n",
    "X_train, X_test, y_train, y_test = split_data(tfidf_voc, np.asarray(corpus[\"CLASS\"]))"
   ]
  },
  {
   "cell_type": "code",
   "execution_count": 17,
   "id": "3a6e25f2",
   "metadata": {},
   "outputs": [
    {
     "data": {
      "text/html": [
       "<div>\n",
       "<style scoped>\n",
       "    .dataframe tbody tr th:only-of-type {\n",
       "        vertical-align: middle;\n",
       "    }\n",
       "\n",
       "    .dataframe tbody tr th {\n",
       "        vertical-align: top;\n",
       "    }\n",
       "\n",
       "    .dataframe thead th {\n",
       "        text-align: right;\n",
       "    }\n",
       "</style>\n",
       "<table border=\"1\" class=\"dataframe\">\n",
       "  <thead>\n",
       "    <tr style=\"text-align: right;\">\n",
       "      <th></th>\n",
       "      <th>0</th>\n",
       "      <th>1</th>\n",
       "    </tr>\n",
       "  </thead>\n",
       "  <tbody>\n",
       "    <tr>\n",
       "      <th>0</th>\n",
       "      <td>0.000259</td>\n",
       "      <td>0.999741</td>\n",
       "    </tr>\n",
       "  </tbody>\n",
       "</table>\n",
       "</div>"
      ],
      "text/plain": [
       "          0         1\n",
       "0  0.000259  0.999741"
      ]
     },
     "execution_count": 17,
     "metadata": {},
     "output_type": "execute_result"
    }
   ],
   "source": [
    "pd.DataFrame(clf.predict_proba(X_test[0]), columns=clf.classes_)"
   ]
  },
  {
   "cell_type": "code",
   "execution_count": 18,
   "id": "d75c7045",
   "metadata": {},
   "outputs": [
    {
     "data": {
      "text/html": [
       "<div>\n",
       "<style scoped>\n",
       "    .dataframe tbody tr th:only-of-type {\n",
       "        vertical-align: middle;\n",
       "    }\n",
       "\n",
       "    .dataframe tbody tr th {\n",
       "        vertical-align: top;\n",
       "    }\n",
       "\n",
       "    .dataframe thead th {\n",
       "        text-align: right;\n",
       "    }\n",
       "</style>\n",
       "<table border=\"1\" class=\"dataframe\">\n",
       "  <thead>\n",
       "    <tr style=\"text-align: right;\">\n",
       "      <th></th>\n",
       "      <th>0</th>\n",
       "      <th>1</th>\n",
       "    </tr>\n",
       "  </thead>\n",
       "  <tbody>\n",
       "    <tr>\n",
       "      <th>0</th>\n",
       "      <td>0.999193</td>\n",
       "      <td>0.000807</td>\n",
       "    </tr>\n",
       "  </tbody>\n",
       "</table>\n",
       "</div>"
      ],
      "text/plain": [
       "          0         1\n",
       "0  0.999193  0.000807"
      ]
     },
     "execution_count": 18,
     "metadata": {},
     "output_type": "execute_result"
    }
   ],
   "source": [
    "pd.DataFrame(clf.predict_proba(X_test[100]), columns=clf.classes_)"
   ]
  },
  {
   "cell_type": "code",
   "execution_count": null,
   "id": "7c19a94a",
   "metadata": {},
   "outputs": [],
   "source": []
  },
  {
   "cell_type": "code",
   "execution_count": null,
   "id": "af6eb847",
   "metadata": {},
   "outputs": [],
   "source": []
  },
  {
   "cell_type": "code",
   "execution_count": null,
   "id": "31129d79",
   "metadata": {},
   "outputs": [],
   "source": []
  }
 ],
 "metadata": {
  "kernelspec": {
   "display_name": "model_env",
   "language": "python",
   "name": "python3"
  },
  "language_info": {
   "codemirror_mode": {
    "name": "ipython",
    "version": 3
   },
   "file_extension": ".py",
   "mimetype": "text/x-python",
   "name": "python",
   "nbconvert_exporter": "python",
   "pygments_lexer": "ipython3",
   "version": "3.10.9"
  },
  "toc-autonumbering": false,
  "toc-showcode": false,
  "toc-showmarkdowntxt": false,
  "toc-showtags": false,
  "vscode": {
   "interpreter": {
    "hash": "5907587528920898ec295df888b65059550f6aac43dddaf75e34466408980fac"
   }
  }
 },
 "nbformat": 4,
 "nbformat_minor": 5
}
