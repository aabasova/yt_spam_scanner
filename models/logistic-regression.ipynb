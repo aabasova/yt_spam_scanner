{
 "cells": [
  {
   "cell_type": "markdown",
   "id": "0aa65c3c-59d3-4cda-a0fd-7d2fc421b1d2",
   "metadata": {},
   "source": [
    "# Logistic Regression"
   ]
  },
  {
   "cell_type": "markdown",
   "id": "ceaa11e2",
   "metadata": {},
   "source": [
    "### Import libraries"
   ]
  },
  {
   "cell_type": "code",
   "execution_count": 1,
   "id": "9750c5c6",
   "metadata": {},
   "outputs": [],
   "source": [
    "import pandas as pd # one-hot encoding\n",
    "import numpy as np\n",
    "import glob\n",
    "import os\n",
    "\n",
    "import matplotlib.pyplot as plt # graphs\n",
    "import matplotlib.colors as colors\n",
    "\n",
    "import joblib\n",
    "import datetime\n",
    "\n",
    "from collections import defaultdict\n",
    "\n",
    "import sklearn\n",
    "from sklearn.utils import resample # downsample dataset\n",
    "from sklearn.model_selection import train_test_split # split to training and testing datasets\n",
    "from sklearn.model_selection import GridSearchCV # cross validation\n",
    "#from sklearn.preprocessing import scale # scale and center data\n",
    "from sklearn.linear_model import LogisticRegression\n",
    "from sklearn.metrics import confusion_matrix, classification_report, ConfusionMatrixDisplay, accuracy_score\n",
    "from sklearn.decomposition import PCA\n",
    "from sklearn.preprocessing import LabelEncoder\n",
    "from sklearn.feature_extraction.text import CountVectorizer, TfidfVectorizer\n",
    "\n",
    "import nltk\n",
    "from nltk import pos_tag\n",
    "from nltk.tokenize import word_tokenize\n",
    "from nltk.stem import WordNetLemmatizer\n",
    "from nltk.corpus import stopwords\n",
    "from nltk.corpus import wordnet as wn"
   ]
  },
  {
   "cell_type": "markdown",
   "id": "9db08491",
   "metadata": {},
   "source": [
    "### Import data\n",
    "\n",
    "We work with 1956 comments from 5 different YouTube videos. The [YouTube Spam Collection Data Set](https://archive.ics.uci.edu/ml/datasets/YouTube+Spam+Collection#) is freely available."
   ]
  },
  {
   "cell_type": "code",
   "execution_count": 2,
   "id": "ccee94a9",
   "metadata": {},
   "outputs": [
    {
     "data": {
      "text/html": [
       "<div>\n",
       "<style scoped>\n",
       "    .dataframe tbody tr th:only-of-type {\n",
       "        vertical-align: middle;\n",
       "    }\n",
       "\n",
       "    .dataframe tbody tr th {\n",
       "        vertical-align: top;\n",
       "    }\n",
       "\n",
       "    .dataframe thead th {\n",
       "        text-align: right;\n",
       "    }\n",
       "</style>\n",
       "<table border=\"1\" class=\"dataframe\">\n",
       "  <thead>\n",
       "    <tr style=\"text-align: right;\">\n",
       "      <th></th>\n",
       "      <th>COMMENT_ID</th>\n",
       "      <th>AUTHOR</th>\n",
       "      <th>DATE</th>\n",
       "      <th>CONTENT</th>\n",
       "      <th>CLASS</th>\n",
       "    </tr>\n",
       "  </thead>\n",
       "  <tbody>\n",
       "    <tr>\n",
       "      <th>0</th>\n",
       "      <td>LZQPQhLyRh80UYxNuaDWhIGQYNQ96IuCg-AYWqNPjpU</td>\n",
       "      <td>Julius NM</td>\n",
       "      <td>2013-11-07T06:20:48</td>\n",
       "      <td>Huh, anyway check out this you[tube] channel: ...</td>\n",
       "      <td>1</td>\n",
       "    </tr>\n",
       "    <tr>\n",
       "      <th>1</th>\n",
       "      <td>LZQPQhLyRh_C2cTtd9MvFRJedxydaVW-2sNg5Diuo4A</td>\n",
       "      <td>adam riyati</td>\n",
       "      <td>2013-11-07T12:37:15</td>\n",
       "      <td>Hey guys check out my new channel and our firs...</td>\n",
       "      <td>1</td>\n",
       "    </tr>\n",
       "    <tr>\n",
       "      <th>2</th>\n",
       "      <td>LZQPQhLyRh9MSZYnf8djyk0gEF9BHDPYrrK-qCczIY8</td>\n",
       "      <td>Evgeny Murashkin</td>\n",
       "      <td>2013-11-08T17:34:21</td>\n",
       "      <td>just for test I have to say murdev.com</td>\n",
       "      <td>1</td>\n",
       "    </tr>\n",
       "    <tr>\n",
       "      <th>3</th>\n",
       "      <td>z13jhp0bxqncu512g22wvzkasxmvvzjaz04</td>\n",
       "      <td>ElNino Melendez</td>\n",
       "      <td>2013-11-09T08:28:43</td>\n",
       "      <td>me shaking my sexy ass on my channel enjoy ^_^ ﻿</td>\n",
       "      <td>1</td>\n",
       "    </tr>\n",
       "    <tr>\n",
       "      <th>4</th>\n",
       "      <td>z13fwbwp1oujthgqj04chlngpvzmtt3r3dw</td>\n",
       "      <td>GsMega</td>\n",
       "      <td>2013-11-10T16:05:38</td>\n",
       "      <td>watch?v=vtaRGgvGtWQ   Check this out .﻿</td>\n",
       "      <td>1</td>\n",
       "    </tr>\n",
       "  </tbody>\n",
       "</table>\n",
       "</div>"
      ],
      "text/plain": [
       "                                    COMMENT_ID            AUTHOR  \\\n",
       "0  LZQPQhLyRh80UYxNuaDWhIGQYNQ96IuCg-AYWqNPjpU         Julius NM   \n",
       "1  LZQPQhLyRh_C2cTtd9MvFRJedxydaVW-2sNg5Diuo4A       adam riyati   \n",
       "2  LZQPQhLyRh9MSZYnf8djyk0gEF9BHDPYrrK-qCczIY8  Evgeny Murashkin   \n",
       "3          z13jhp0bxqncu512g22wvzkasxmvvzjaz04   ElNino Melendez   \n",
       "4          z13fwbwp1oujthgqj04chlngpvzmtt3r3dw            GsMega   \n",
       "\n",
       "                  DATE                                            CONTENT  \\\n",
       "0  2013-11-07T06:20:48  Huh, anyway check out this you[tube] channel: ...   \n",
       "1  2013-11-07T12:37:15  Hey guys check out my new channel and our firs...   \n",
       "2  2013-11-08T17:34:21             just for test I have to say murdev.com   \n",
       "3  2013-11-09T08:28:43   me shaking my sexy ass on my channel enjoy ^_^ ﻿   \n",
       "4  2013-11-10T16:05:38            watch?v=vtaRGgvGtWQ   Check this out .﻿   \n",
       "\n",
       "   CLASS  \n",
       "0      1  \n",
       "1      1  \n",
       "2      1  \n",
       "3      1  \n",
       "4      1  "
      ]
     },
     "execution_count": 2,
     "metadata": {},
     "output_type": "execute_result"
    }
   ],
   "source": [
    "path = r\"data/YouTube-Spam-Collection/\"\n",
    "files = glob.glob(os.path.join(path, \"*.csv\"))\n",
    "\n",
    "corpus = pd.concat((pd.read_csv(file) for file in files), ignore_index=True)\n",
    "corpus.head()"
   ]
  },
  {
   "cell_type": "code",
   "execution_count": 3,
   "id": "56ee6a4b",
   "metadata": {},
   "outputs": [],
   "source": [
    "assert len(corpus) == 1956"
   ]
  },
  {
   "cell_type": "markdown",
   "id": "9776d133",
   "metadata": {},
   "source": [
    "### Statistics about the data"
   ]
  },
  {
   "cell_type": "code",
   "execution_count": 4,
   "id": "6db72209",
   "metadata": {},
   "outputs": [
    {
     "name": "stdout",
     "output_type": "stream",
     "text": [
      "Data types:\n",
      "COMMENT_ID    object\n",
      "AUTHOR        object\n",
      "DATE          object\n",
      "CONTENT       object\n",
      "CLASS          int64\n",
      "dtype: object\n",
      "\n",
      "There are 2 comment types: [1 0]\n",
      "The dataset contains of 1956 examples: 1005 spam and 951 legitimate comments\n"
     ]
    },
    {
     "data": {
      "image/png": "[encoded data removed]",
      "text/plain": [
       "<Figure size 432x288 with 1 Axes>"
      ]
     },
     "metadata": {
      "needs_background": "light"
     },
     "output_type": "display_data"
    }
   ],
   "source": [
    "print(f\"Data types:\\n{corpus.dtypes}\\n\")\n",
    "print(f\"There are {len(corpus['CLASS'].unique())} comment types: {corpus['CLASS'].unique()}\")\n",
    "print(f\"The dataset contains of {len(corpus)} examples: {len(corpus.loc[corpus['CLASS'] == 1])} spam and {len(corpus.loc[corpus['CLASS'] == 0])} legitimate comments\")\n",
    "\n",
    "corpus.groupby(\"CLASS\").CONTENT.count().plot.bar(ylim=0)\n",
    "plt.xticks([0,1],['legitimate', 'spam'], rotation=0)\n",
    "plt.xlabel(\"comment type\")\n",
    "plt.ylabel(\"numberof comments\")\n",
    "plt.title(\"Dataset distribution\", pad=20)\n",
    "plt.show()"
   ]
  },
  {
   "cell_type": "markdown",
   "id": "e249a60d",
   "metadata": {},
   "source": [
    "### Peprocessing"
   ]
  },
  {
   "cell_type": "code",
   "execution_count": 5,
   "id": "92ef9b11",
   "metadata": {},
   "outputs": [],
   "source": [
    "#nltk.download('stopwords')\n",
    "#nltk.download('omw-1.4')\n",
    "    \n",
    "def preprocess_data(corpus,\n",
    "                    irrelevant_features=[\"COMMENT_ID\", \"AUTHOR\", \"DATE\"],\n",
    "                    #rename_columns={\"CONTENT\":\"COMMENT\"}\n",
    "                   ):\n",
    "    \n",
    "    # drop irrelevant features\n",
    "    corpus.drop(irrelevant_features, inplace=True, axis=1)\n",
    "\n",
    "    # remove blank rows if any\n",
    "    corpus.dropna()\n",
    "    \n",
    "    # add column for representation\n",
    "    corpus['REPR'] = corpus.loc[:, 'CONTENT']\n",
    "        \n",
    "    # lower case\n",
    "    corpus['REPR'] = corpus['REPR'].str.lower()\n",
    "\n",
    "    # change column name\n",
    "    #for old, new in rename_columns:\n",
    "        #corpus.rename({old : new}, axis=1, inplace=True)\n",
    "\n",
    "    lemmatizer = WordNetLemmatizer()\n",
    "    stop_words = stopwords.words(\"english\")\n",
    "    \n",
    "    for comment in corpus[\"REPR\"]:    \n",
    "        comment = nltk.word_tokenize(comment) # tokenizing nltk.WordPunctTokenizer().tokenize(comment.lower())?\n",
    "        comment = [lemmatizer.lemmatize(word) for word in comment] # lemmatizing\n",
    "        comment = [word for word in comment if word not in stop_words] # removing stopwords\n",
    "        comment = \" \".join(comment)"
   ]
  },
  {
   "cell_type": "code",
   "execution_count": 6,
   "id": "542d2038",
   "metadata": {},
   "outputs": [],
   "source": [
    "preprocess_data(corpus)\n",
    "\n",
    "# binary feature representation\n",
    "vectorizer = CountVectorizer(binary=True, max_df=0.95) #max_features=10000, tokenizer=lambda doc: doc)\n",
    "BOW = vectorizer.fit_transform(corpus[\"REPR\"])\n",
    "\n",
    "# count based feature representation\n",
    "vectorizer_2 = CountVectorizer(binary=False, max_df=0.95) #max_features=10000)\n",
    "BOW_2 = vectorizer_2.fit_transform(corpus[\"REPR\"])\n",
    "\n",
    "# bag of 2-Grams\n",
    "bigram_vectorizer = CountVectorizer(tokenizer=lambda doc: doc, ngram_range=[2,2])\n",
    "BOW_3 = bigram_vectorizer.fit_transform(corpus[\"REPR\"])\n",
    "\n",
    "# TF-IDF\n",
    "tfidf_vectorizer = TfidfVectorizer(use_idf=True, max_df=0.95) #min_df= 3, stop_words=\"english\", sublinear_tf=True, norm='l2', ngram_range=(1, 2))\n",
    "tfidf_voc = tfidf_vectorizer.fit_transform(corpus[\"REPR\"])"
   ]
  },
  {
   "cell_type": "markdown",
   "id": "39aed4d5",
   "metadata": {},
   "source": [
    "### Logistic Regression model"
   ]
  },
  {
   "cell_type": "markdown",
   "id": "78a65aa5",
   "metadata": {},
   "source": [
    "### Train, store and evaluate"
   ]
  },
  {
   "cell_type": "code",
   "execution_count": 7,
   "id": "b837c037",
   "metadata": {},
   "outputs": [],
   "source": [
    "\n",
    "def split_data(features, labels):\n",
    "    return train_test_split(features,labels, test_size=0.3,random_state=42,shuffle=True)\n",
    "\n",
    "\n",
    "def save_model(model):\n",
    "    now = datetime.datetime.now()\n",
    "    model_output_path = \"saved_models/\"+model.__class__.__name__.lower()+\"_\"+str(now.minute)+\"-\"+str(now.second)+\".joblib\"\n",
    "    joblib.dump(model, open(model_output_path, 'wb+'))\n",
    "\n",
    "\n",
    "def report(model, best_model, X_test, y_test, labels):\n",
    "    print(f\"Best parameters set {model.best_params_} with accuracy {model.best_score_}\")\n",
    "    y_predict = best_model.predict(X_test)\n",
    "    \n",
    "    labels = sorted(list(set(labels)))\n",
    "    print(\"\\nConfusion matrix:\")\n",
    "    cm = confusion_matrix(y_test, y_predict, labels=labels) # lables=clf.classes_\n",
    "    disp = ConfusionMatrixDisplay(confusion_matrix=cm, display_labels=labels)\n",
    "    disp.plot()\n",
    "    plt.show()\n",
    "    \n",
    "    print(\"\\nClassification report:\")\n",
    "    print(classification_report(y_test, y_predict))\n",
    "    \n",
    "    print(\"\\nAccuracy: {}%\".format(accuracy_score(y_test, y_predict)*100))\n",
    "    print(\"Precision: {}%\".format(sklearn.metrics.precision_score(y_test, y_predict)*100))\n",
    "    print(\"Recall: {}%\".format(sklearn.metrics.recall_score(y_test, y_predict)*100))\n",
    "\n",
    "    \n",
    "def train_lg_classifier(features, labels):\n",
    "    # split data\n",
    "    X_train, X_test, y_train, y_test = split_data(features, labels)\n",
    "\n",
    "    param = {'C': [1e-5, 1e-3, 1e-1, 1e0, 1e1, 1e2]}\n",
    "\n",
    "    clf = GridSearchCV(LogisticRegression(), param, cv=5, n_jobs=2, verbose=0)\n",
    "    \n",
    "    clf.fit(X_train, y_train)\n",
    "    lg_clf = clf.best_estimator_\n",
    "    \n",
    "    # save model to disk\n",
    "    save_model(lg_clf)\n",
    "    \n",
    "    # show test report\n",
    "    report(clf, lg_clf, X_test, y_test, labels)\n"
   ]
  },
  {
   "cell_type": "code",
   "execution_count": 8,
   "id": "5c5b76d9",
   "metadata": {},
   "outputs": [
    {
     "name": "stdout",
     "output_type": "stream",
     "text": [
      "Best parameters set {'C': 100.0} with accuracy 0.9532552605545307\n",
      "\n",
      "Confusion matrix:\n"
     ]
    },
    {
     "data": {
      "image/png": "[encoded data removed]",
      "text/plain": [
       "<Figure size 432x288 with 2 Axes>"
      ]
     },
     "metadata": {
      "needs_background": "light"
     },
     "output_type": "display_data"
    },
    {
     "name": "stdout",
     "output_type": "stream",
     "text": [
      "\n",
      "Classification report:\n",
      "              precision    recall  f1-score   support\n",
      "\n",
      "           0       0.93      0.97      0.95       284\n",
      "           1       0.97      0.93      0.95       303\n",
      "\n",
      "    accuracy                           0.95       587\n",
      "   macro avg       0.95      0.95      0.95       587\n",
      "weighted avg       0.95      0.95      0.95       587\n",
      "\n",
      "\n",
      "Accuracy: 94.8892674616695%\n",
      "Precision: 97.23183391003461%\n",
      "Recall: 92.73927392739274%\n"
     ]
    }
   ],
   "source": [
    "train_lg_classifier(BOW, np.asarray(corpus[\"CLASS\"]))"
   ]
  },
  {
   "cell_type": "code",
   "execution_count": 9,
   "id": "937d9b1d",
   "metadata": {},
   "outputs": [
    {
     "name": "stdout",
     "output_type": "stream",
     "text": [
      "Best parameters set {'C': 10.0} with accuracy 0.9525333547231357\n",
      "\n",
      "Confusion matrix:\n"
     ]
    },
    {
     "data": {
      "image/png": "[encoded data removed]",
      "text/plain": [
       "<Figure size 432x288 with 2 Axes>"
      ]
     },
     "metadata": {
      "needs_background": "light"
     },
     "output_type": "display_data"
    },
    {
     "name": "stdout",
     "output_type": "stream",
     "text": [
      "\n",
      "Classification report:\n",
      "              precision    recall  f1-score   support\n",
      "\n",
      "           0       0.92      0.97      0.95       284\n",
      "           1       0.97      0.92      0.95       303\n",
      "\n",
      "    accuracy                           0.95       587\n",
      "   macro avg       0.95      0.95      0.95       587\n",
      "weighted avg       0.95      0.95      0.95       587\n",
      "\n",
      "\n",
      "Accuracy: 94.54855195911414%\n",
      "Precision: 97.21254355400697%\n",
      "Recall: 92.07920792079209%\n"
     ]
    }
   ],
   "source": [
    "train_lg_classifier(BOW_2, np.asarray(corpus[\"CLASS\"]))"
   ]
  },
  {
   "cell_type": "code",
   "execution_count": 10,
   "id": "ac0c9b14",
   "metadata": {},
   "outputs": [
    {
     "name": "stderr",
     "output_type": "stream",
     "text": [
      "/home/vivi/uni/venv/lib/python3.8/site-packages/sklearn/linear_model/_logistic.py:444: ConvergenceWarning: lbfgs failed to converge (status=1):\n",
      "STOP: TOTAL NO. of ITERATIONS REACHED LIMIT.\n",
      "\n",
      "Increase the number of iterations (max_iter) or scale the data as shown in:\n",
      "    https://scikit-learn.org/stable/modules/preprocessing.html\n",
      "Please also refer to the documentation for alternative solver options:\n",
      "    https://scikit-learn.org/stable/modules/linear_model.html#logistic-regression\n",
      "  n_iter_i = _check_optimize_result(\n"
     ]
    },
    {
     "name": "stdout",
     "output_type": "stream",
     "text": [
      "Best parameters set {'C': 10.0} with accuracy 0.9371861714927409\n",
      "\n",
      "Confusion matrix:\n"
     ]
    },
    {
     "data": {
      "image/png": "[encoded data removed]",
      "text/plain": [
       "<Figure size 432x288 with 2 Axes>"
      ]
     },
     "metadata": {
      "needs_background": "light"
     },
     "output_type": "display_data"
    },
    {
     "name": "stdout",
     "output_type": "stream",
     "text": [
      "\n",
      "Classification report:\n",
      "              precision    recall  f1-score   support\n",
      "\n",
      "           0       0.91      0.94      0.92       284\n",
      "           1       0.94      0.91      0.93       303\n",
      "\n",
      "    accuracy                           0.93       587\n",
      "   macro avg       0.92      0.93      0.93       587\n",
      "weighted avg       0.93      0.93      0.93       587\n",
      "\n",
      "\n",
      "Accuracy: 92.50425894378195%\n",
      "Precision: 93.89830508474576%\n",
      "Recall: 91.41914191419141%\n"
     ]
    }
   ],
   "source": [
    "train_lg_classifier(BOW_3, np.asarray(corpus[\"CLASS\"]))"
   ]
  },
  {
   "cell_type": "code",
   "execution_count": 11,
   "id": "f3c7b0ce",
   "metadata": {},
   "outputs": [
    {
     "name": "stdout",
     "output_type": "stream",
     "text": [
      "Best parameters set {'C': 100.0} with accuracy 0.9474158444961365\n",
      "\n",
      "Confusion matrix:\n"
     ]
    },
    {
     "data": {
      "image/png": "[encoded data removed]",
      "text/plain": [
       "<Figure size 432x288 with 2 Axes>"
      ]
     },
     "metadata": {
      "needs_background": "light"
     },
     "output_type": "display_data"
    },
    {
     "name": "stdout",
     "output_type": "stream",
     "text": [
      "\n",
      "Classification report:\n",
      "              precision    recall  f1-score   support\n",
      "\n",
      "           0       0.90      0.97      0.93       284\n",
      "           1       0.97      0.90      0.93       303\n",
      "\n",
      "    accuracy                           0.93       587\n",
      "   macro avg       0.93      0.93      0.93       587\n",
      "weighted avg       0.94      0.93      0.93       587\n",
      "\n",
      "\n",
      "Accuracy: 93.35604770017035%\n",
      "Precision: 96.80851063829788%\n",
      "Recall: 90.0990099009901%\n"
     ]
    }
   ],
   "source": [
    "train_lg_classifier(tfidf_voc, np.asarray(corpus[\"CLASS\"]))"
   ]
  },
  {
   "cell_type": "markdown",
   "id": "4c57d750",
   "metadata": {},
   "source": [
    "### Load saved model"
   ]
  },
  {
   "cell_type": "code",
   "execution_count": 12,
   "id": "ecd26b7a",
   "metadata": {},
   "outputs": [],
   "source": [
    "model_output_path = 'saved_models/logisticregression_34-12.joblib'\n",
    "\n",
    "def load_saved_model(model_path):\n",
    "    return joblib.load(model_path)"
   ]
  },
  {
   "cell_type": "code",
   "execution_count": 13,
   "id": "97dcee8c",
   "metadata": {},
   "outputs": [],
   "source": [
    "clf = load_saved_model(model_output_path)\n",
    "X_train, X_test, y_train, y_test = split_data(tfidf_voc, np.asarray(corpus[\"CLASS\"]))"
   ]
  },
  {
   "cell_type": "code",
   "execution_count": 14,
   "id": "647519e1",
   "metadata": {},
   "outputs": [
    {
     "data": {
      "text/html": [
       "<div>\n",
       "<style scoped>\n",
       "    .dataframe tbody tr th:only-of-type {\n",
       "        vertical-align: middle;\n",
       "    }\n",
       "\n",
       "    .dataframe tbody tr th {\n",
       "        vertical-align: top;\n",
       "    }\n",
       "\n",
       "    .dataframe thead th {\n",
       "        text-align: right;\n",
       "    }\n",
       "</style>\n",
       "<table border=\"1\" class=\"dataframe\">\n",
       "  <thead>\n",
       "    <tr style=\"text-align: right;\">\n",
       "      <th></th>\n",
       "      <th>0</th>\n",
       "      <th>1</th>\n",
       "    </tr>\n",
       "  </thead>\n",
       "  <tbody>\n",
       "    <tr>\n",
       "      <th>0</th>\n",
       "      <td>0.99623</td>\n",
       "      <td>0.00377</td>\n",
       "    </tr>\n",
       "  </tbody>\n",
       "</table>\n",
       "</div>"
      ],
      "text/plain": [
       "         0        1\n",
       "0  0.99623  0.00377"
      ]
     },
     "execution_count": 14,
     "metadata": {},
     "output_type": "execute_result"
    }
   ],
   "source": [
    "pd.DataFrame(clf.predict_proba(X_test[0]), columns=clf.classes_)"
   ]
  },
  {
   "cell_type": "code",
   "execution_count": null,
   "id": "3a6e25f2",
   "metadata": {},
   "outputs": [],
   "source": []
  },
  {
   "cell_type": "code",
   "execution_count": null,
   "id": "d75c7045",
   "metadata": {},
   "outputs": [],
   "source": []
  },
  {
   "cell_type": "code",
   "execution_count": null,
   "id": "af6eb847",
   "metadata": {},
   "outputs": [],
   "source": []
  }
 ],
 "metadata": {
  "kernelspec": {
   "display_name": "model_env",
   "language": "python",
   "name": "python3"
  },
  "language_info": {
   "codemirror_mode": {
    "name": "ipython",
    "version": 3
   },
   "file_extension": ".py",
   "mimetype": "text/x-python",
   "name": "python",
   "nbconvert_exporter": "python",
   "pygments_lexer": "ipython3",
   "version": "3.10.9 (main, Dec  7 2022, 01:12:00) [GCC 9.4.0]"
  },
  "toc-autonumbering": false,
  "toc-showcode": false,
  "toc-showmarkdowntxt": false,
  "toc-showtags": false,
  "vscode": {
   "interpreter": {
    "hash": "5907587528920898ec295df888b65059550f6aac43dddaf75e34466408980fac"
   }
  }
 },
 "nbformat": 4,
 "nbformat_minor": 5
}
