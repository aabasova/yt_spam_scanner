{
 "cells": [
  {
   "cell_type": "markdown",
   "id": "0aa65c3c-59d3-4cda-a0fd-7d2fc421b1d2",
   "metadata": {},
   "source": [
    "# SVM"
   ]
  },
  {
   "cell_type": "markdown",
   "id": "ceaa11e2",
   "metadata": {},
   "source": [
    "### Import libraries"
   ]
  },
  {
   "cell_type": "code",
   "execution_count": 2,
   "id": "9750c5c6",
   "metadata": {},
   "outputs": [],
   "source": [
    "import pandas as pd # one-hot encoding\n",
    "import numpy as np\n",
    "import matplotlib.pyplot as plt # graphs\n",
    "import matplotlib.colors as colors\n",
    "from sklearn.utils import resample # downsample dataset\n",
    "from sklearn.model_selection import train_test_split # split to training and testing datasets\n",
    "from sklearn.model_selection import GridSearchCV # cross validation\n",
    "from sklearn.preprocessing import scale # scale and center data\n",
    "from sklearn.svm import SVC # support vector classifier\n",
    "from sklearn.metrics import confusion_matrix\n",
    "from sklearn.metrics import plot_confusion_matrix\n",
    "from sklearn.metrics import accuracy_score\n",
    "from sklearn.decomposition import PCA"
   ]
  },
  {
   "cell_type": "markdown",
   "id": "9db08491",
   "metadata": {},
   "source": [
    "### Import data"
   ]
  },
  {
   "cell_type": "code",
   "execution_count": null,
   "id": "ccee94a9",
   "metadata": {},
   "outputs": [],
   "source": [
    "df = pd.read_csv(\"yt_comments.csv\")\n",
    "df.head()\n",
    "df.rename({'xxx':'yyy'}, axis='columns', inplace=True) # change column name\n",
    "df.head()\n",
    "df.drop('aaa', axis=1, inplace=True) # remove column\n",
    "df.head()"
   ]
  },
  {
   "cell_type": "code",
   "execution_count": null,
   "id": "6db72209",
   "metadata": {},
   "outputs": [],
   "source": [
    "df.dtypes\n",
    "df['yyy'].unique()\n",
    "print(f\"There are {len(df)} rows in the data set\")\n",
    "print(f\"There are {len(df.loc[(df['yyy'] == y)])} containing missing values\")"
   ]
  },
  {
   "cell_type": "markdown",
   "id": "d74f227f",
   "metadata": {},
   "source": [
    "### Downsample (in case our dataset is big enough)\n",
    "SVM does not require much data and works fine with small datasets"
   ]
  },
  {
   "cell_type": "code",
   "execution_count": null,
   "id": "7c7e7508",
   "metadata": {},
   "outputs": [],
   "source": [
    "df_downsampled = resample(df, replace=False, n_samples=1000, random_state=42)\n",
    "print(f\"There are {len(df_downsampled)} rows in the downsampled dataset\")"
   ]
  },
  {
   "cell_type": "markdown",
   "id": "f797c966",
   "metadata": {},
   "source": [
    "### Combine English and translated German comments"
   ]
  },
  {
   "cell_type": "code",
   "execution_count": null,
   "id": "bb2b18e1",
   "metadata": {},
   "outputs": [],
   "source": [
    "df_downsample = pd.concat([df_downsampled_en, df_downsampled_de]) # merge into single dataframe\n",
    "len(df_downsample)"
   ]
  },
  {
   "cell_type": "markdown",
   "id": "b6153460",
   "metadata": {},
   "source": [
    "### Split the data"
   ]
  },
  {
   "cell_type": "code",
   "execution_count": null,
   "id": "f9902d5b",
   "metadata": {},
   "outputs": [],
   "source": [
    "X =\n",
    "y = "
   ]
  },
  {
   "cell_type": "markdown",
   "id": "bfc993e6",
   "metadata": {},
   "source": [
    "### One-Hot encoding"
   ]
  },
  {
   "cell_type": "code",
   "execution_count": null,
   "id": "0b5be096",
   "metadata": {},
   "outputs": [],
   "source": [
    "X_encoded = pd.get_dummies(X, columns=['yyy', 'zzz'])\n",
    "X_encoded.head()"
   ]
  },
  {
   "cell_type": "markdown",
   "id": "9168575b",
   "metadata": {},
   "source": [
    "### Centering and scaling\n",
    "Each column should have a mean value = 0 and standard deviation = 1"
   ]
  },
  {
   "cell_type": "code",
   "execution_count": null,
   "id": "eca71f41",
   "metadata": {},
   "outputs": [],
   "source": [
    "X_train, X_test, y_train, y _test = train_test_split(X_encoded,\n",
    "                                                     y,\n",
    "                                                     test_size=0.33, # default is 0.25\n",
    "                                                     random_state=42,\n",
    "                                                     stratify=y,  # if imbalanced dataset\n",
    "                                                     schuffle=True\n",
    "                                                    )\n",
    "X_train_scaled = scale(X_train)\n",
    "X_test_scaled = scale(X_test)"
   ]
  },
  {
   "cell_type": "markdown",
   "id": "39aed4d5",
   "metadata": {},
   "source": [
    "### SVM"
   ]
  },
  {
   "cell_type": "code",
   "execution_count": null,
   "id": "fdfd1bb9",
   "metadata": {},
   "outputs": [],
   "source": [
    "clf_svm = SVC(random_state=42)\n",
    "clf_svm.fit(X_train_scaled, y_train) # supervised"
   ]
  },
  {
   "cell_type": "markdown",
   "id": "6300aa42",
   "metadata": {},
   "source": [
    "### Optimize parameters using cross validation"
   ]
  },
  {
   "cell_type": "code",
   "execution_count": null,
   "id": "821df150",
   "metadata": {},
   "outputs": [],
   "source": [
    "params = [{'C': [],\n",
    "         'gamma': [],\n",
    "         'kernel': []},\n",
    "        ]\n",
    "\n",
    "optimal_params = GridSearchCV(SVC(),\n",
    "                             params,\n",
    "                             cv=5,\n",
    "                             scorng='accuracy',\n",
    "                             verbose=0\n",
    "                             )\n",
    "\n",
    "optimal_params.fit(X_train_scaled, y_train)\n",
    "print(f\"Optimal parameters are {optimal_params.best_params_}\")"
   ]
  },
  {
   "cell_type": "code",
   "execution_count": null,
   "id": "9f4450ac",
   "metadata": {},
   "outputs": [],
   "source": [
    "clf_svm = SVC(C=1.0, \n",
    "              kernel='rbf',\n",
    "              degree=3,\n",
    "              gamma='scale',\n",
    "              tol=0.001,\n",
    "              random_state=42,\n",
    "             )\n",
    "\n",
    "clf_svm.fit(X_train_scaled, y_train)"
   ]
  },
  {
   "cell_type": "markdown",
   "id": "4dd4a81e",
   "metadata": {},
   "source": [
    "### Evaluation"
   ]
  },
  {
   "cell_type": "code",
   "execution_count": null,
   "id": "d9b81b28",
   "metadata": {},
   "outputs": [],
   "source": [
    "plot_confusion_matrix(clf_svm,\n",
    "                      X_test_scaled,\n",
    "                      y_test,\n",
    "                      valued_format='d',\n",
    "                      display_labels=['Y', 'N']\n",
    "                     )\n",
    "\n",
    "predicted =  clf_svm.predict(X_test_scaled)\n",
    "print(f\"Accuracy is {accuracy_score(y_test, predicted)})"
   ]
  },
  {
   "cell_type": "markdown",
   "id": "4b4d6751",
   "metadata": {},
   "source": [
    "### SVM decision boundary?"
   ]
  },
  {
   "cell_type": "code",
   "execution_count": null,
   "id": "283980a1",
   "metadata": {},
   "outputs": [],
   "source": []
  },
  {
   "cell_type": "code",
   "execution_count": null,
   "id": "02496ad2",
   "metadata": {},
   "outputs": [],
   "source": []
  },
  {
   "cell_type": "code",
   "execution_count": null,
   "id": "b5280257",
   "metadata": {},
   "outputs": [],
   "source": []
  },
  {
   "cell_type": "code",
   "execution_count": null,
   "id": "3a6e25f2",
   "metadata": {},
   "outputs": [],
   "source": []
  },
  {
   "cell_type": "code",
   "execution_count": null,
   "id": "d75c7045",
   "metadata": {},
   "outputs": [],
   "source": []
  },
  {
   "cell_type": "code",
   "execution_count": null,
   "id": "af6eb847",
   "metadata": {},
   "outputs": [],
   "source": []
  }
 ],
 "metadata": {
  "kernelspec": {
   "display_name": "Python 3 (ipykernel)",
   "language": "python",
   "name": "python3"
  },
  "language_info": {
   "codemirror_mode": {
    "name": "ipython",
    "version": 3
   },
   "file_extension": ".py",
   "mimetype": "text/x-python",
   "name": "python",
   "nbconvert_exporter": "python",
   "pygments_lexer": "ipython3",
   "version": "3.8.10"
  },
  "toc-autonumbering": false,
  "toc-showcode": false,
  "toc-showmarkdowntxt": false,
  "toc-showtags": false,
  "vscode": {
   "interpreter": {
    "hash": "1196ff73e69031ce7691823783dc34b71df7ab6ce03d1cc9aafbe73b151aff4d"
   }
  }
 },
 "nbformat": 4,
 "nbformat_minor": 5
}
